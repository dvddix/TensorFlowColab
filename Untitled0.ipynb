{
  "nbformat": 4,
  "nbformat_minor": 0,
  "metadata": {
    "colab": {
      "name": "Untitled0.ipynb",
      "version": "0.3.2",
      "provenance": [],
      "include_colab_link": true
    },
    "kernelspec": {
      "name": "python3",
      "display_name": "Python 3"
    },
    "accelerator": "GPU"
  },
  "cells": [
    {
      "cell_type": "markdown",
      "metadata": {
        "id": "view-in-github",
        "colab_type": "text"
      },
      "source": [
        "<a href=\"https://colab.research.google.com/github/dvddix/TensorFlowColab/blob/master/Untitled0.ipynb\" target=\"_parent\"><img src=\"https://colab.research.google.com/assets/colab-badge.svg\" alt=\"Open In Colab\"/></a>"
      ]
    },
    {
      "metadata": {
        "id": "qQi0UbIhWzYY",
        "colab_type": "code",
        "colab": {}
      },
      "cell_type": "code",
      "source": [
        "# https://github.com/georgeliu1998/tf_and_colab/blob/master/tf_and_colab.ipynb\n",
        "import numpy as np\n",
        "import tensorflow as tf\n",
        "import matplotlib.pyplot as plt"
      ],
      "execution_count": 0,
      "outputs": []
    },
    {
      "metadata": {
        "id": "JQDAr3y5ZfmP",
        "colab_type": "code",
        "colab": {
          "base_uri": "https://localhost:8080/",
          "height": 193
        },
        "outputId": "8474f843-7892-47f7-a360-1b014362fbdd"
      },
      "cell_type": "code",
      "source": [
        "# Check TensorFlow versions\n",
        "!pip show tensorflow"
      ],
      "execution_count": 7,
      "outputs": [
        {
          "output_type": "stream",
          "text": [
            "Name: tensorflow\n",
            "Version: 1.12.0\n",
            "Summary: TensorFlow is an open source machine learning framework for everyone.\n",
            "Home-page: https://www.tensorflow.org/\n",
            "Author: Google Inc.\n",
            "Author-email: opensource@google.com\n",
            "License: Apache 2.0\n",
            "Location: /usr/local/lib/python3.6/dist-packages\n",
            "Requires: grpcio, keras-preprocessing, absl-py, wheel, tensorboard, six, gast, astor, termcolor, numpy, keras-applications, protobuf\n",
            "Required-by: stable-baselines, magenta, fancyimpute\n"
          ],
          "name": "stdout"
        }
      ]
    },
    {
      "metadata": {
        "id": "7DvjFZgaZrxV",
        "colab_type": "code",
        "colab": {
          "base_uri": "https://localhost:8080/",
          "height": 34
        },
        "outputId": "c414cb02-2883-4a95-d013-7588dac8363e"
      },
      "cell_type": "code",
      "source": [
        "# A random cell to be deleted\n",
        "print(\"Colab -> is cool\")"
      ],
      "execution_count": 9,
      "outputs": [
        {
          "output_type": "stream",
          "text": [
            "Colab -> is cool\n"
          ],
          "name": "stdout"
        }
      ]
    },
    {
      "metadata": {
        "id": "d7iK_puyd1bx",
        "colab_type": "text"
      },
      "cell_type": "markdown",
      "source": [
        "Connecting with GitHub\n",
        "\"File\" --> \"Save a copy in GitHub\"\n",
        "\n",
        "Enable GPU support\n",
        "\"Runtime - Change runtime type - Hardware accelerator\"\n",
        "\n",
        "Several Quick Examples\n",
        "Constant and Variable\n"
      ]
    },
    {
      "metadata": {
        "id": "A0e8Ptlcd4o9",
        "colab_type": "code",
        "colab": {}
      },
      "cell_type": "code",
      "source": [
        "# Define two TensorFlow constants\n",
        "a = tf.constant(1, name='a_var')          \n",
        "b = tf.constant(2, name='b_bar')"
      ],
      "execution_count": 0,
      "outputs": []
    },
    {
      "metadata": {
        "id": "d7qpM12AeENv",
        "colab_type": "code",
        "colab": {
          "base_uri": "https://localhost:8080/",
          "height": 34
        },
        "outputId": "15affe8d-a89f-4635-8f40-09825e8a5af8"
      },
      "cell_type": "code",
      "source": [
        "# See what the constant a is\n",
        "a"
      ],
      "execution_count": 12,
      "outputs": [
        {
          "output_type": "execute_result",
          "data": {
            "text/plain": [
              "<tf.Tensor 'a_var_1:0' shape=() dtype=int32>"
            ]
          },
          "metadata": {
            "tags": []
          },
          "execution_count": 12
        }
      ]
    },
    {
      "metadata": {
        "id": "XZkEIQsBeKPn",
        "colab_type": "code",
        "colab": {}
      },
      "cell_type": "code",
      "source": [
        "# Define a variable c\n",
        "c = tf.Variable(a + b)"
      ],
      "execution_count": 0,
      "outputs": []
    },
    {
      "metadata": {
        "id": "pN1l27IQePpU",
        "colab_type": "code",
        "colab": {
          "base_uri": "https://localhost:8080/",
          "height": 34
        },
        "outputId": "165e9d54-585f-4802-bdf3-420f0066bfdc"
      },
      "cell_type": "code",
      "source": [
        "# Check out c\n",
        "c"
      ],
      "execution_count": 14,
      "outputs": [
        {
          "output_type": "execute_result",
          "data": {
            "text/plain": [
              "<tf.Variable 'Variable:0' shape=() dtype=int32_ref>"
            ]
          },
          "metadata": {
            "tags": []
          },
          "execution_count": 14
        }
      ]
    },
    {
      "metadata": {
        "id": "G7QdGX73eT86",
        "colab_type": "text"
      },
      "cell_type": "markdown",
      "source": [
        "**Session**"
      ]
    },
    {
      "metadata": {
        "id": "2HqC8IA4eWHL",
        "colab_type": "code",
        "colab": {
          "base_uri": "https://localhost:8080/",
          "height": 34
        },
        "outputId": "3490dd9f-e618-408b-acc4-48a6981dda47"
      },
      "cell_type": "code",
      "source": [
        "# Initialize all variables and run the computational graph\n",
        "init = tf.global_variables_initializer()         \n",
        "                                                 \n",
        "with tf.Session() as session:                    \n",
        "    session.run(init)                            \n",
        "    print(session.run(c))"
      ],
      "execution_count": 15,
      "outputs": [
        {
          "output_type": "stream",
          "text": [
            "3\n"
          ],
          "name": "stdout"
        }
      ]
    },
    {
      "metadata": {
        "id": "sQjz6H_xevot",
        "colab_type": "text"
      },
      "cell_type": "markdown",
      "source": [
        "**Placeholder**"
      ]
    },
    {
      "metadata": {
        "id": "xycIn22jexNW",
        "colab_type": "text"
      },
      "cell_type": "markdown",
      "source": [
        "Now let's show the use of placeholder. We'll first use a parabola equation as below:\n",
        "\n",
        "$y = a x^2+bx+c$\n",
        "\n",
        "Here, imagine x, instead of just one number, it's a list of numbers (vector). To calculate the corresponding y value for each x value, we can use placeholder."
      ]
    },
    {
      "metadata": {
        "id": "30gdODAhe0RK",
        "colab_type": "code",
        "colab": {}
      },
      "cell_type": "code",
      "source": [
        "# Initialize the coefficients as constants\n",
        "a = tf.constant(1, dtype=tf.float32)\n",
        "b = tf.constant(-20, dtype=tf.float32)\n",
        "c = tf.constant(-100, dtype=tf.float32)"
      ],
      "execution_count": 0,
      "outputs": []
    },
    {
      "metadata": {
        "id": "THeihmc_fBeJ",
        "colab_type": "code",
        "colab": {}
      },
      "cell_type": "code",
      "source": [
        "# Initialize x as a placeholder since we need to feed the data for it\n",
        "x = tf.placeholder(dtype=tf.float32)"
      ],
      "execution_count": 0,
      "outputs": []
    },
    {
      "metadata": {
        "id": "g4x1_4h-fGiH",
        "colab_type": "code",
        "colab": {}
      },
      "cell_type": "code",
      "source": [
        "\n",
        "# Set up the computational graph\n",
        "y = a * (x ** 2) + b * x + c"
      ],
      "execution_count": 0,
      "outputs": []
    },
    {
      "metadata": {
        "id": "_iHARPrBfKfJ",
        "colab_type": "code",
        "colab": {}
      },
      "cell_type": "code",
      "source": [
        "# Provide the feed in data for x\n",
        "x_feed = np.linspace(-10, 30, num=10)"
      ],
      "execution_count": 0,
      "outputs": []
    },
    {
      "metadata": {
        "id": "vL749UxDfNVQ",
        "colab_type": "code",
        "colab": {}
      },
      "cell_type": "code",
      "source": [
        "# Start and run a session\n",
        "with tf.Session() as sess:\n",
        "  results = sess.run(y, feed_dict={x: x_feed})"
      ],
      "execution_count": 0,
      "outputs": []
    },
    {
      "metadata": {
        "id": "lQ1MTHM_fPzL",
        "colab_type": "code",
        "colab": {
          "base_uri": "https://localhost:8080/",
          "height": 52
        },
        "outputId": "1a30d3dd-8153-4cfe-8a4e-ecf3eef2f165"
      },
      "cell_type": "code",
      "source": [
        "print(results)"
      ],
      "execution_count": 23,
      "outputs": [
        {
          "output_type": "stream",
          "text": [
            "[ 200.         41.975304  -76.54321  -155.55554  -195.06174  -195.06174\n",
            " -155.55554   -76.54324    41.97534   200.      ]\n"
          ],
          "name": "stdout"
        }
      ]
    },
    {
      "metadata": {
        "id": "OvbKkS-Lfglf",
        "colab_type": "text"
      },
      "cell_type": "markdown",
      "source": [
        "**A Mini Project**"
      ]
    },
    {
      "metadata": {
        "id": "Vc68pH8_fiu9",
        "colab_type": "code",
        "colab": {
          "base_uri": "https://localhost:8080/",
          "height": 175
        },
        "outputId": "2d1697f9-6993-4b39-ec6d-afe2fdafcf2d"
      },
      "cell_type": "code",
      "source": [
        "# A simple example taken from TensorFlow Guide: https://www.tensorflow.org/guide/low_level_intro\n",
        "\n",
        "# Define the placeholders\n",
        "x = tf.placeholder(dtype=tf.float32, shape=(None, 1))\n",
        "y_true = tf.placeholder(dtype=tf.float32, shape=(None, 1))\n",
        "\n",
        "# Create the model\n",
        "linear_model = tf.layers.Dense(units=1, \n",
        "                               bias_initializer=tf.constant_initializer(1))\n",
        "y_pred = linear_model(x)\n",
        "\n",
        "# Define the loss function\n",
        "loss = tf.losses.mean_squared_error(labels=y_true, \n",
        "                                    predictions=y_pred)\n",
        "\n",
        "# Define the optimizer\n",
        "optimizer = tf.train.GradientDescentOptimizer(0.01)\n",
        "train = optimizer.minimize(loss)\n",
        "\n",
        "#Initialize all variables (weights and biases in the defined layer above)\n",
        "init = tf.global_variables_initializer()\n",
        "\n",
        "# Provide the training examples\n",
        "x_values = np.array([[1], [2], [3], [4]])\n",
        "y_values = np.array([[0], [-1], [-2], [-3]])\n",
        "\n",
        "with tf.Session() as sess:\n",
        "  sess.run(init)\n",
        "  # Do 1000 rounds of training\n",
        "  for i in range(1000):\n",
        "    _, loss_value = sess.run((train, loss),\n",
        "                             feed_dict={x: x_values, y_true: y_values})\n",
        "    print(loss_value, end='\\r')\n",
        "\n",
        "  weights = sess.run(linear_model.weights)\n",
        "  bias = sess.run(linear_model.bias)\n",
        "  preds = sess.run(y_pred, \n",
        "                   feed_dict={x: x_values})\n",
        "  \n",
        "  print(\"The weight is: \", weights)\n",
        "  print('\\r')\n",
        "  print(\"The bias is: \", bias)\n",
        "  print('\\r')\n",
        "  print(\"The predictions are: \\n\", preds)"
      ],
      "execution_count": 25,
      "outputs": [
        {
          "output_type": "stream",
          "text": [
            "The weight is:  [array([[-0.9985561]], dtype=float32), array([0.9957547], dtype=float32)]\n",
            "\n",
            "The bias is:  [0.9957547]\n",
            "\n",
            "The predictions are: \n",
            " [[-2.8013587e-03]\n",
            " [-1.0013574e+00]\n",
            " [-1.9999135e+00]\n",
            " [-2.9984696e+00]]\n"
          ],
          "name": "stdout"
        }
      ]
    }
  ]
}